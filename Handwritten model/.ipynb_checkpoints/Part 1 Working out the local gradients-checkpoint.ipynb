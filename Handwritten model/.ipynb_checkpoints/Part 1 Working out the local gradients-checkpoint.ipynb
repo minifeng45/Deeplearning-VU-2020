{
 "cells": [
  {
   "cell_type": "code",
   "execution_count": null,
   "metadata": {},
   "outputs": [],
   "source": []
  },
  {
   "cell_type": "code",
   "execution_count": null,
   "metadata": {},
   "outputs": [],
   "source": [
    "import math "
   ]
  },
  {
   "cell_type": "code",
   "execution_count": 25,
   "metadata": {},
   "outputs": [],
   "source": [
    "def softmax(vector):\n",
    "    e = exp(vector)\n",
    "    return e / e.sum()"
   ]
  },
  {
   "cell_type": "code",
   "execution_count": 23,
   "metadata": {},
   "outputs": [],
   "source": [
    "def softmax_grad(o):\n",
    "    o_dev = [[0]*len(o)]*len(o)\n",
    "    for i in range(len(o)):\n",
    "        for j in range(len(o)):\n",
    "            if i==j:\n",
    "                o_dev[i][j] = softmax(o)[i]*(1-softmax(o))[i]\n",
    "            else:\n",
    "                o_dev[i][j] = -softmax(o)[i]*softmax(o)[j]\n",
    "    return(o_dev)"
   ]
  },
  {
   "cell_type": "code",
   "execution_count": 12,
   "metadata": {},
   "outputs": [],
   "source": [
    "# y is the corresponding activated nodes; t is target nodes\n",
    "def loss(y,t):\n",
    "    return -math.log(y)*t"
   ]
  },
  {
   "cell_type": "code",
   "execution_count": 1,
   "metadata": {},
   "outputs": [],
   "source": [
    "def loss_grad(y,t):\n",
    "    return (-t/y)+(1-t)/(1-y)"
   ]
  }
 ],
 "metadata": {
  "kernelspec": {
   "display_name": "Python 3",
   "language": "python",
   "name": "python3"
  },
  "language_info": {
   "codemirror_mode": {
    "name": "ipython",
    "version": 3
   },
   "file_extension": ".py",
   "mimetype": "text/x-python",
   "name": "python",
   "nbconvert_exporter": "python",
   "pygments_lexer": "ipython3",
   "version": "3.8.3"
  }
 },
 "nbformat": 4,
 "nbformat_minor": 4
}
