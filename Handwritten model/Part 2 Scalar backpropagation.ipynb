{
 "cells": [
  {
   "cell_type": "code",
   "execution_count": 24,
   "metadata": {},
   "outputs": [],
   "source": [
    "import math"
   ]
  },
  {
   "cell_type": "code",
   "execution_count": 25,
   "metadata": {},
   "outputs": [],
   "source": [
    "%run Data_loading.ipynb \n",
    "Data = load_synth()"
   ]
  },
  {
   "cell_type": "code",
   "execution_count": 28,
   "metadata": {},
   "outputs": [],
   "source": [
    "#### define essential parameters, for training\n",
    "X = Data[0][0] #trainset of X\n",
    "T = Data[0][1] #trainset of target\n",
    "t = [[0]*2]*len(T)\n",
    "# transform T = 1 into t = [1,0] ; T = 0 into t = [0,1]\n",
    "for i in range(len(T)):\n",
    "    t[i] = [T[i],1-T[i]]\n",
    "# give weight\n",
    "w = [[1., 1., -0.9], [0.5, -1., -1.]]\n",
    "v = [[1,1],[-1,-1],[-1,-1]]\n",
    "b = [0.,0.,0.]\n",
    "c = [0.,0.]\n",
    "# give 0 entry for the rest of variable\n",
    "l = [0.,0.]\n",
    "loss = [0.,0.]\n",
    "dev_l = [0.,0.]\n",
    "dev_y = [0.,0.]\n",
    "dev_h = [0.,0.,0.]\n",
    "dev_v = [[0.,0.],[0.,0.],[0.,0.]]\n",
    "dev_k = [0.,0.,0.]\n",
    "dev_w = [[0., 0., 0.], [0., 0., 0.]]\n",
    "dev_b = [0.,0.,0.]\n",
    "# set learning rate as alpha\n",
    "alpha = 0.005\n",
    "epoch = 50"
   ]
  },
  {
   "cell_type": "code",
   "execution_count": 29,
   "metadata": {},
   "outputs": [
    {
     "name": "stdout",
     "output_type": "stream",
     "text": [
      "[[1.0, 1.0, -0.9], [0.5, -1.0, -1.0]]\n",
      "[[0.0, 0.0, 0.0], [0.0, 0.0, 0.0]]\n",
      "[[1.0002803380304501, 0.9998226031424166, -0.8996505286501082], [0.4991180872390892, -1.00065916877123, -1.0007341635897562]]\n",
      "[[-0.002803380304501892, 0.0017739685758340414, -0.003494713498918379], [0.008819127609108428, 0.00659168771230072, 0.007341635897562934]]\n",
      "[[0.992377993890268, 0.9930552454676357, -0.8914523010957207], [0.4920689110598384, -0.9959974077791672, -0.995844423566136]]\n",
      "[[0.0790234414018207, 0.06767357674780926, -0.08198227554387462], [0.07049176179250789, -0.04661760992062796, -0.04889740023620153]]\n",
      "[[0.9056076004421162, 0.9293294565946386, -0.82337685680621], [0.4436519564841837, -0.936791678383413, -0.9296161367378883]]\n",
      "[[0.8677039344815186, 0.6372578887299709, -0.6807544428951076], [0.4841695457565468, -0.5920572939575421, -0.6622828682824766]]\n",
      "[[0.5875170194411379, 0.6926695147108987, -0.5732627109869346], [0.28199136639005495, -0.7070049117145605, -0.6649350319674435]]\n",
      "[[3.1809058100097825, 2.3665994188373993, -2.501141458192753], [1.6166059009412874, -2.297867666688525, -2.646811047704448]]\n",
      "[[0.23209856213658286, 0.32985522987461063, -0.2236160893633537], [0.10743602020900661, -0.34413606144893344, -0.2755303402855751]]\n",
      "[[3.55418457304555, 3.62814284836288, -3.4964662162358087], [1.7455534618104833, -3.6286885026562703, -3.894046916818684]]\n",
      "[[0.1294029107450116, 0.18787234962709104, -0.11990306172961901], [0.05696552527566579, -0.19844993717103962, -0.1547131612198835]]\n",
      "[[1.0269565139157129, 1.419828802475196, -1.037130276337347], [0.5047049493334081, -1.456861242778938, -1.2081717906569163]]\n"
     ]
    },
    {
     "ename": "KeyboardInterrupt",
     "evalue": "",
     "output_type": "error",
     "traceback": [
      "\u001b[1;31m---------------------------------------------------------------------------\u001b[0m",
      "\u001b[1;31mKeyboardInterrupt\u001b[0m                         Traceback (most recent call last)",
      "\u001b[1;32m<ipython-input-29-c32225477f77>\u001b[0m in \u001b[0;36m<module>\u001b[1;34m\u001b[0m\n\u001b[0;32m     27\u001b[0m          \u001b[1;32mfor\u001b[0m \u001b[0mi\u001b[0m \u001b[1;32min\u001b[0m \u001b[0mrange\u001b[0m\u001b[1;33m(\u001b[0m\u001b[1;36m2\u001b[0m\u001b[1;33m)\u001b[0m\u001b[1;33m:\u001b[0m\u001b[1;33m\u001b[0m\u001b[1;33m\u001b[0m\u001b[0m\n\u001b[0;32m     28\u001b[0m              \u001b[0mloss\u001b[0m\u001b[1;33m[\u001b[0m\u001b[0mi\u001b[0m\u001b[1;33m]\u001b[0m \u001b[1;33m=\u001b[0m \u001b[1;33m-\u001b[0m\u001b[0mmath\u001b[0m\u001b[1;33m.\u001b[0m\u001b[0mlog\u001b[0m\u001b[1;33m(\u001b[0m\u001b[0ml\u001b[0m\u001b[1;33m[\u001b[0m\u001b[0mi\u001b[0m\u001b[1;33m]\u001b[0m\u001b[1;33m)\u001b[0m\u001b[1;33m*\u001b[0m\u001b[0mt\u001b[0m\u001b[1;33m[\u001b[0m\u001b[0ma\u001b[0m\u001b[1;33m]\u001b[0m\u001b[1;33m[\u001b[0m\u001b[0mi\u001b[0m\u001b[1;33m]\u001b[0m \u001b[1;33m-\u001b[0m \u001b[0mmath\u001b[0m\u001b[1;33m.\u001b[0m\u001b[0mlog\u001b[0m\u001b[1;33m(\u001b[0m\u001b[1;36m1.\u001b[0m\u001b[1;33m-\u001b[0m\u001b[0ml\u001b[0m\u001b[1;33m[\u001b[0m\u001b[0mi\u001b[0m\u001b[1;33m]\u001b[0m\u001b[1;33m)\u001b[0m\u001b[1;33m*\u001b[0m\u001b[1;33m(\u001b[0m\u001b[1;36m1.\u001b[0m\u001b[1;33m-\u001b[0m\u001b[0mt\u001b[0m\u001b[1;33m[\u001b[0m\u001b[0ma\u001b[0m\u001b[1;33m]\u001b[0m\u001b[1;33m[\u001b[0m\u001b[0mi\u001b[0m\u001b[1;33m]\u001b[0m\u001b[1;33m)\u001b[0m\u001b[1;33m\u001b[0m\u001b[1;33m\u001b[0m\u001b[0m\n\u001b[1;32m---> 29\u001b[1;33m          \u001b[0mcost\u001b[0m \u001b[1;33m=\u001b[0m\u001b[0msum\u001b[0m\u001b[1;33m(\u001b[0m\u001b[0mloss\u001b[0m\u001b[1;33m)\u001b[0m\u001b[1;33m\u001b[0m\u001b[1;33m\u001b[0m\u001b[0m\n\u001b[0m\u001b[0;32m     30\u001b[0m \u001b[1;31m#Backward\u001b[0m\u001b[1;33m\u001b[0m\u001b[1;33m\u001b[0m\u001b[1;33m\u001b[0m\u001b[0m\n\u001b[0;32m     31\u001b[0m          \u001b[1;32mfor\u001b[0m \u001b[0mi\u001b[0m \u001b[1;32min\u001b[0m \u001b[0mrange\u001b[0m\u001b[1;33m(\u001b[0m\u001b[1;36m2\u001b[0m\u001b[1;33m)\u001b[0m\u001b[1;33m:\u001b[0m\u001b[1;33m\u001b[0m\u001b[1;33m\u001b[0m\u001b[0m\n",
      "\u001b[1;31mKeyboardInterrupt\u001b[0m: "
     ]
    }
   ],
   "source": [
    "   for e in range(epoch):\n",
    "        dev_cs = [0.,0.]\n",
    "        dev_vs = [[0.,0.],[0.,0.],[0.,0.]]\n",
    "        dev_bs = [0.,0.,0.]\n",
    "        dev_ws = [[0., 0., 0.], [0., 0., 0.]]\n",
    "#Forward\n",
    "        for a in range(len(X)):\n",
    "            k = [0.,0.,0.]\n",
    "            h = [0.,0.,0.]\n",
    "            y = [0.,0.]\n",
    "            for j in range(3):\n",
    "                for i in range(2):\n",
    "                    k[j] += w[i][j]*X[a][i]\n",
    "                k[j] += b[j]\n",
    "            for i in range(3):\n",
    "                h[i] = 1/(1 + math.exp(-k[i]))\n",
    "            for i in range(3):\n",
    "                for j in range(2):\n",
    "                    y[j] += v[i][j]*h[i]\n",
    "            for i in range(2):\n",
    "                y[i] += c[i]\n",
    "            sum_exp = 0\n",
    "            for i in range(2):\n",
    "                sum_exp += math.exp(y[i])\n",
    "            for i in range(2):\n",
    "                l[i] = math.exp(y[i])/sum_exp\n",
    "            for i in range(2):\n",
    "                loss[i] = -math.log(l[i])*t[a][i] - math.log(1.-l[i])*(1.-t[a][i])\n",
    "            cost =sum(loss)\n",
    "#Backward\n",
    "            for i in range(2):\n",
    "                dev_y[i] = l[i]-t[a][i]\n",
    "            dev_c = dev_y\n",
    "            for i in range(3):\n",
    "                for j in range(2):\n",
    "                    dev_v[i][j] = dev_y[j]*h[i]\n",
    "                    dev_h[i] += dev_y[j]*v[i][j]\n",
    "            for i in range(3):\n",
    "                dev_k[i] =  dev_h[i]*h[i]*(1-h[i]) \n",
    "            for j in range(3):\n",
    "                for i in range(2):\n",
    "                    dev_w[i][j] = dev_k[j]*X[a][i]\n",
    "                dev_b[j] = dev_k[j] \n",
    "#average the weights for all trainset X \n",
    "            for i in range(2):\n",
    "                for j in range(3):\n",
    "                    dev_ws[i][j] += dev_w[i][j]/len(X)\n",
    "            for i in range(3):\n",
    "                for j in range(2):\n",
    "                    dev_vs[i][j] += dev_v[i][j]/len(X)\n",
    "            for i in range(3):\n",
    "                dev_bs[i] += dev_b[i]/len(X)\n",
    "            for i in range(2):\n",
    "                dev_cs[i] += dev_c[i]/len(X)\n",
    "#update w,b,v,c\n",
    "        for i in range(2):\n",
    "            for j in range(3):\n",
    "                w[i][j] = w[i][j] - alpha*dev_ws[i][j]\n",
    "        for i in range(3):\n",
    "            for j in range(2):\n",
    "                v[i][j] = v[i][j] - alpha*dev_vs[i][j] \n",
    "        for i in range(3):\n",
    "            b[i] = b[i] - alpha*dev_bs[i]\n",
    "        for i in range(2):\n",
    "            c[i] = c[i] - alpha*dev_cs[i]"
   ]
  },
  {
   "cell_type": "code",
   "execution_count": null,
   "metadata": {},
   "outputs": [],
   "source": []
  }
 ],
 "metadata": {
  "kernelspec": {
   "display_name": "Python 3",
   "language": "python",
   "name": "python3"
  },
  "language_info": {
   "codemirror_mode": {
    "name": "ipython",
    "version": 3
   },
   "file_extension": ".py",
   "mimetype": "text/x-python",
   "name": "python",
   "nbconvert_exporter": "python",
   "pygments_lexer": "ipython3",
   "version": "3.8.3"
  }
 },
 "nbformat": 4,
 "nbformat_minor": 4
}
