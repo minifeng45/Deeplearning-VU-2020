{
  "nbformat": 4,
  "nbformat_minor": 0,
  "metadata": {
    "colab": {
      "name": "Deeplearning_Model_plot(OnlineGPUrunning_ver).ipynb",
      "provenance": []
    },
    "kernelspec": {
      "name": "python3",
      "display_name": "Python 3"
    },
    "accelerator": "GPU"
  },
  "cells": [
    {
      "cell_type": "markdown",
      "metadata": {
        "id": "Cfhx6-EeYVim"
      },
      "source": [
        "# Environment setting"
      ]
    },
    {
      "cell_type": "code",
      "metadata": {
        "id": "zI9byAgkNrWQ"
      },
      "source": [
        "!pip install -U -q PyDrive\n",
        "from pydrive.auth import GoogleAuth\n",
        "from pydrive.drive import GoogleDrive\n",
        "from google.colab import auth\n",
        "from oauth2client.client import GoogleCredentials"
      ],
      "execution_count": 3,
      "outputs": []
    },
    {
      "cell_type": "code",
      "metadata": {
        "colab": {
          "base_uri": "https://localhost:8080/"
        },
        "id": "iM1eWFJWSvGV",
        "outputId": "771345ee-a918-49a3-efe1-b8ad1e22b1a6"
      },
      "source": [
        "pip install wget"
      ],
      "execution_count": 4,
      "outputs": [
        {
          "output_type": "stream",
          "text": [
            "Collecting wget\n",
            "  Downloading https://files.pythonhosted.org/packages/47/6a/62e288da7bcda82b935ff0c6cfe542970f04e29c756b0e147251b2fb251f/wget-3.2.zip\n",
            "Building wheels for collected packages: wget\n",
            "  Building wheel for wget (setup.py) ... \u001b[?25l\u001b[?25hdone\n",
            "  Created wheel for wget: filename=wget-3.2-cp36-none-any.whl size=9682 sha256=b8b50cfea79c28037e66ac9bd44394c02b3db0e14e595a2eb44abe9f8654ddb9\n",
            "  Stored in directory: /root/.cache/pip/wheels/40/15/30/7d8f7cea2902b4db79e3fea550d7d7b85ecb27ef992b618f3f\n",
            "Successfully built wget\n",
            "Installing collected packages: wget\n",
            "Successfully installed wget-3.2\n"
          ],
          "name": "stdout"
        }
      ]
    },
    {
      "cell_type": "code",
      "metadata": {
        "id": "Ml7aHEt4N69R"
      },
      "source": [
        "auth.authenticate_user()\n",
        "gauth = GoogleAuth()\n",
        "gauth.credentials = GoogleCredentials.get_application_default()\n",
        "drive = GoogleDrive(gauth)"
      ],
      "execution_count": 5,
      "outputs": []
    },
    {
      "cell_type": "code",
      "metadata": {
        "id": "s3b2npBiRCKO"
      },
      "source": [
        "downloaded = drive.CreateFile({'id':'13RZ0_sSr5HbTm1urv5veWtuRWkWoxbDA'}) # replace the id with id of file you want to access\n",
        "downloaded.GetContentFile('data.py')"
      ],
      "execution_count": 6,
      "outputs": []
    },
    {
      "cell_type": "code",
      "metadata": {
        "id": "IUUXpw9KQorM"
      },
      "source": [
        "% run data.py"
      ],
      "execution_count": 7,
      "outputs": []
    },
    {
      "cell_type": "code",
      "metadata": {
        "id": "DXoSQajzStTz"
      },
      "source": [
        "(x_train, y_train), (x_val, y_val), (i2w, w2i), numcls = load_imdb(final=False)"
      ],
      "execution_count": 8,
      "outputs": []
    },
    {
      "cell_type": "code",
      "metadata": {
        "id": "Y5EN4DLHTlPJ"
      },
      "source": [
        "import torch\n",
        "from torch import nn\n",
        "from torch.nn.utils.rnn import pad_sequence\n",
        "import torch.nn.functional as F"
      ],
      "execution_count": 9,
      "outputs": []
    },
    {
      "cell_type": "code",
      "metadata": {
        "colab": {
          "base_uri": "https://localhost:8080/"
        },
        "id": "MUKSLMi8Wx5Z",
        "outputId": "f7dc90ff-0bf2-432c-e029-c7b7409043db"
      },
      "source": [
        "device = torch.device(\"cuda:0\" if torch.cuda.is_available() else \"cpu\")\n",
        "\n",
        "# Assuming that we are on a CUDA machine, this should print a CUDA device:\n",
        "\n",
        "print(device)"
      ],
      "execution_count": 10,
      "outputs": [
        {
          "output_type": "stream",
          "text": [
            "cuda:0\n"
          ],
          "name": "stdout"
        }
      ]
    },
    {
      "cell_type": "markdown",
      "metadata": {
        "id": "u077y6RWXJyp"
      },
      "source": [
        "#Train,Test data tidyup (Batch size setting, Padding)"
      ]
    },
    {
      "cell_type": "code",
      "metadata": {
        "id": "ge-Gj2ajUGAu"
      },
      "source": [
        "batch = []\n",
        "target = []\n",
        "for j in range(500):\n",
        "    tensor_x = []\n",
        "    for i in range(40):\n",
        "        tensor_x.append(torch.tensor(x_train[i+j*40], dtype=torch.long))\n",
        "    tensor_pad = pad_sequence(tensor_x, batch_first=True, padding_value=0)\n",
        "    batch.append(tensor_pad)\n",
        "    target.append(torch.tensor(y_train[0+j*40:40+j*40]))"
      ],
      "execution_count": 45,
      "outputs": []
    },
    {
      "cell_type": "code",
      "metadata": {
        "id": "ar_9n9l-UJAd"
      },
      "source": [
        "v_batch = []\n",
        "v_target = []\n",
        "for j in range(125):\n",
        "    tensor_x = []\n",
        "    for i in range(40):\n",
        "        tensor_x.append(torch.tensor(x_train[i+j*40], dtype=torch.long))\n",
        "    tensor_pad = pad_sequence(tensor_x, batch_first=True, padding_value=0)\n",
        "    v_batch.append(tensor_pad)\n",
        "    v_target.append(torch.tensor(y_train[0+j*40:40+j*40]))"
      ],
      "execution_count": 46,
      "outputs": []
    },
    {
      "cell_type": "markdown",
      "metadata": {
        "id": "A3i1av__XjL2"
      },
      "source": [
        "# Model 1: Handmade No-reccurrent NN"
      ]
    },
    {
      "cell_type": "code",
      "metadata": {
        "colab": {
          "base_uri": "https://localhost:8080/"
        },
        "id": "9SJ_0buHUJoN",
        "outputId": "d2b7d54a-9f9d-4bcf-fa07-c8d555931d85"
      },
      "source": [
        "class Net(nn.Module):\n",
        "\n",
        "    def __init__(self):\n",
        "        super(Net, self).__init__()\n",
        "        # 1 input image channel, 16 output channels, 3x3 square convolution\n",
        "        # kernel\n",
        "        self.layer1 = nn.Embedding(len(i2w),300)\n",
        "        # an affine operation: y = Wx + b\n",
        "        self.fc1 = nn.Linear(300,300)  \n",
        "        self.fc2 = nn.Linear(300,2)\n",
        "\n",
        "    def forward(self, x):\n",
        "        x = self.layer1(x.to(device))\n",
        "        x = torch.max(F.relu(self.fc1(x.to(device))),1)\n",
        "        x = self.fc2(x.values)\n",
        "        return x\n",
        "\n",
        "net = Net()\n",
        "print(net)"
      ],
      "execution_count": 47,
      "outputs": [
        {
          "output_type": "stream",
          "text": [
            "Net(\n",
            "  (layer1): Embedding(99430, 300)\n",
            "  (fc1): Linear(in_features=300, out_features=300, bias=True)\n",
            "  (fc2): Linear(in_features=300, out_features=2, bias=True)\n",
            ")\n"
          ],
          "name": "stdout"
        }
      ]
    },
    {
      "cell_type": "code",
      "metadata": {
        "id": "pJD-HhM6UO6W"
      },
      "source": [
        "import torch.optim as optim\n",
        "optimizer = optim.Adam(net.parameters(),betas=(0.9, 0.999), lr=0.0005)"
      ],
      "execution_count": 48,
      "outputs": []
    },
    {
      "cell_type": "code",
      "metadata": {
        "colab": {
          "base_uri": "https://localhost:8080/"
        },
        "id": "1xGOvdriURXF",
        "outputId": "1442a8a8-0830-4995-a095-92b7c047c9b8"
      },
      "source": [
        "accuracy_NoRecurrent = []\n",
        "for epoch in range(35): \n",
        "  running_loss = 0.0\n",
        "  for j in range(500):\n",
        "    outputs = net.to(device)(batch[j].to(device))\n",
        "    optimizer.zero_grad()\n",
        "    loss = torch.nn.functional.cross_entropy(F.softmax(outputs,1),target[j].to(device))\n",
        "    loss.backward()\n",
        "    optimizer.step() \n",
        " \n",
        "  correct = 0\n",
        "  total = 0\n",
        "  with torch.no_grad():\n",
        "      for j in range(125):\n",
        "          outputs = net(v_batch[j].to(device))\n",
        "          _, predicted = torch.max(outputs.data, 1)\n",
        "          total += v_target[j].size(0)\n",
        "          correct += (predicted == v_target[j].to(device)).sum().item()\n",
        "\n",
        "  accuracy = correct/total\n",
        "  print(accuracy)\n",
        "  accuracy_NoRecurrent.append(accuracy) \n",
        "print('Finished Training')"
      ],
      "execution_count": 49,
      "outputs": [
        {
          "output_type": "stream",
          "text": [
            "0.8812\n",
            "0.913\n",
            "0.9364\n",
            "0.953\n",
            "0.9656\n",
            "0.9714\n",
            "0.9754\n",
            "0.9652\n",
            "0.9318\n",
            "0.9428\n",
            "0.9874\n",
            "0.9894\n",
            "0.9902\n",
            "0.9914\n",
            "0.987\n",
            "0.9916\n",
            "0.9926\n",
            "0.993\n",
            "0.9934\n",
            "0.9936\n",
            "0.9936\n",
            "0.9944\n",
            "0.9822\n",
            "0.9948\n",
            "0.9944\n",
            "0.9952\n",
            "0.9954\n",
            "0.9956\n",
            "0.9956\n",
            "0.9956\n",
            "0.994\n",
            "0.9954\n",
            "0.9956\n",
            "0.9958\n",
            "0.9958\n",
            "Finished Training\n"
          ],
          "name": "stdout"
        }
      ]
    },
    {
      "cell_type": "markdown",
      "metadata": {
        "id": "NTyw-Lp0XuLO"
      },
      "source": [
        "# Model 2: Elman "
      ]
    },
    {
      "cell_type": "code",
      "metadata": {
        "id": "41UUatWtUULP"
      },
      "source": [
        "class Elman (nn.Module):\n",
        "    def __init__ (self , insize= 300 , outsize= 300 , hsize= 300 ):\n",
        "        super (). __init__ ()\n",
        "        self.lin1 = nn.Linear(insize+hsize,hsize)  \n",
        "        self.lin2 = nn.Linear(hsize,outsize)\n",
        "    def forward (self , x, hidden= None ):\n",
        "        b, t, e = x.size()\n",
        "        if hidden is None :\n",
        "            hidden = torch.zeros(b, e, dtype =torch.float)\n",
        "        outs = []\n",
        "        \n",
        "        for i in range (t):\n",
        "            inp = torch.cat([x[:, i, :], hidden.to(device)], dim = 1)\n",
        "            inp = F.relu(self.lin1(inp)) \n",
        "            out = self.lin2(inp)\n",
        "            outs.append(out[:, None , :])\n",
        "        return torch.cat(outs, dim = 1 ), hidden"
      ],
      "execution_count": 15,
      "outputs": []
    },
    {
      "cell_type": "code",
      "metadata": {
        "id": "5iEl4U4UUa_0",
        "colab": {
          "base_uri": "https://localhost:8080/"
        },
        "outputId": "4ad51406-be9d-4fd7-bdc7-bf8ee5574304"
      },
      "source": [
        "class Net(nn.Module):\n",
        "\n",
        "    def __init__(self):\n",
        "        super(Net, self).__init__()\n",
        "        # 1 input image channel, 16 output channels, 3x3 square convolution\n",
        "        # kernel\n",
        "        self.layer1 = nn.Embedding(len(i2w),300)\n",
        "        # an affine operation: y = Wx + b\n",
        "        self.fc1 = Elman(300,300,300) \n",
        "        self.fc2 = nn.Linear(300,2)\n",
        "\n",
        "    def forward(self, x):\n",
        "        x = self.layer1(x)\n",
        "        x = self.fc1(x)\n",
        "        x = torch.max(F.relu(x[0]),1)\n",
        "        x = self.fc2(x.values)\n",
        "        return x\n",
        "\n",
        "net_Elman = Net()\n",
        "print(net_Elman)"
      ],
      "execution_count": 16,
      "outputs": [
        {
          "output_type": "stream",
          "text": [
            "Net(\n",
            "  (layer1): Embedding(99430, 300)\n",
            "  (fc1): Elman(\n",
            "    (lin1): Linear(in_features=600, out_features=300, bias=True)\n",
            "    (lin2): Linear(in_features=300, out_features=300, bias=True)\n",
            "  )\n",
            "  (fc2): Linear(in_features=300, out_features=2, bias=True)\n",
            ")\n"
          ],
          "name": "stdout"
        }
      ]
    },
    {
      "cell_type": "code",
      "metadata": {
        "id": "979g8bXSUfeM"
      },
      "source": [
        "optimizer = optim.Adam(net_Elman.parameters(),betas=(0.9, 0.999), lr=0.001)"
      ],
      "execution_count": 17,
      "outputs": []
    },
    {
      "cell_type": "code",
      "metadata": {
        "id": "qE7bwPCeUi4C",
        "colab": {
          "base_uri": "https://localhost:8080/"
        },
        "outputId": "f0c80f68-326d-4dc2-f3ed-416e40d6502e"
      },
      "source": [
        "for epoch in range(1): \n",
        "    running_loss = 0.0 \n",
        "    for j in range(500):\n",
        "        outputs = net_Elman.to(device)(batch[j].to(device))\n",
        "        optimizer.zero_grad()\n",
        "        loss = torch.nn.functional.cross_entropy(F.softmax(outputs,1),target[j].to(device))\n",
        "        loss.backward()\n",
        "        optimizer.step()\n",
        "        running_loss += loss.item()\n",
        "        if j % 50 == 49:    # print every 2000 mini-batches\n",
        "          print('[%5d] loss: %.3f' %\n",
        "          (j + 1, running_loss / 50))\n",
        "          running_loss = 0.0 \n",
        "\n",
        "print('Finished Training')"
      ],
      "execution_count": 18,
      "outputs": [
        {
          "output_type": "stream",
          "text": [
            "[   50] loss: 0.597\n",
            "[  100] loss: 0.476\n",
            "[  150] loss: 0.488\n",
            "[  200] loss: 0.460\n",
            "[  250] loss: 0.448\n",
            "[  300] loss: 0.446\n",
            "[  350] loss: 0.502\n",
            "[  400] loss: 0.481\n",
            "[  450] loss: 0.507\n",
            "[  500] loss: 0.474\n",
            "Finished Training\n"
          ],
          "name": "stdout"
        }
      ]
    },
    {
      "cell_type": "code",
      "metadata": {
        "id": "ZkLejujOUkIa",
        "colab": {
          "base_uri": "https://localhost:8080/"
        },
        "outputId": "1a0930d9-e689-457f-826b-1f25fabc2303"
      },
      "source": [
        "correct = 0\n",
        "total = 0\n",
        "with torch.no_grad():\n",
        "    for j in range(125):\n",
        "        outputs = net(v_batch[j].to(device))\n",
        "        _, predicted = torch.max(outputs.data, 1)\n",
        "        total += v_target[j].size(0)\n",
        "        correct += (predicted == v_target[j].to(device)).sum().item()\n",
        "\n",
        "print('Accuracy of the network on the 5000 test images: %d %%' % (\n",
        "    100 * correct / total))"
      ],
      "execution_count": 19,
      "outputs": [
        {
          "output_type": "stream",
          "text": [
            "Accuracy of the network on the 5000 test images: 80 %\n"
          ],
          "name": "stdout"
        }
      ]
    },
    {
      "cell_type": "markdown",
      "metadata": {
        "id": "QplKUCmrX4tF"
      },
      "source": [
        "# Model 3: Recurrent NN"
      ]
    },
    {
      "cell_type": "code",
      "metadata": {
        "id": "bPizRvtpU80U",
        "colab": {
          "base_uri": "https://localhost:8080/"
        },
        "outputId": "1e6d05c6-e93a-4385-b3e3-debe372f76d1"
      },
      "source": [
        "class Net(nn.Module):\n",
        "\n",
        "    def __init__(self):\n",
        "        super(Net, self).__init__()\n",
        "        # 1 input image channel, 16 output channels, 3x3 square convolution\n",
        "        # kernel\n",
        "        self.layer1 = nn.Embedding(len(i2w),300)\n",
        "        # an affine operation: y = Wx + b\n",
        "        self.fc1 = nn.RNN(300,300) \n",
        "        self.fc2 = nn.Linear(300,2)\n",
        "\n",
        "    def forward(self, x):\n",
        "        x = self.layer1(x.to(device))\n",
        "        x = self.fc1(x.to(device))\n",
        "        x = torch.max(F.relu(x[0].to(device)),1)\n",
        "        x = self.fc2(x.values)\n",
        "        return x\n",
        "\n",
        "net_Rnn = Net()\n",
        "print(net_Rnn)"
      ],
      "execution_count": 50,
      "outputs": [
        {
          "output_type": "stream",
          "text": [
            "Net(\n",
            "  (layer1): Embedding(99430, 300)\n",
            "  (fc1): RNN(300, 300)\n",
            "  (fc2): Linear(in_features=300, out_features=2, bias=True)\n",
            ")\n"
          ],
          "name": "stdout"
        }
      ]
    },
    {
      "cell_type": "code",
      "metadata": {
        "id": "99hqFjt7Ulub"
      },
      "source": [
        "optimizer = optim.Adam(net_Rnn.parameters(),betas=(0.9, 0.999), lr=0.0005)"
      ],
      "execution_count": 51,
      "outputs": []
    },
    {
      "cell_type": "code",
      "metadata": {
        "id": "7tx0EbpxU3x7",
        "colab": {
          "base_uri": "https://localhost:8080/"
        },
        "outputId": "c6c240ea-12b5-41e1-bb74-c9bb5114969d"
      },
      "source": [
        "accuracy_RNN = []\n",
        "for epoch in range(35):\n",
        "    running_loss = 0.0 \n",
        "    for j in range(500):\n",
        "        outputs = net_Rnn.to(device)(batch[j].to(device))\n",
        "        optimizer.zero_grad()\n",
        "        loss = torch.nn.functional.cross_entropy(F.softmax(outputs,1),target[j].to(device))\n",
        "        loss.backward()\n",
        "        optimizer.step()\n",
        "    correct = 0\n",
        "    total = 0\n",
        "    with torch.no_grad():\n",
        "        for j in range(125):\n",
        "            outputs = net_Rnn(v_batch[j].to(device))\n",
        "            _, predicted = torch.max(outputs.data, 1)\n",
        "            total += v_target[j].size(0)\n",
        "            correct += (predicted == v_target[j].to(device)).sum().item()\n",
        "\n",
        "    accuracy = correct/total\n",
        "    print(accuracy)\n",
        "    accuracy_RNN.append(accuracy) \n",
        "print('Finished Training')"
      ],
      "execution_count": 52,
      "outputs": [
        {
          "output_type": "stream",
          "text": [
            "0.8214\n",
            "0.8826\n",
            "0.9028\n",
            "0.9216\n",
            "0.931\n",
            "0.9404\n",
            "0.9434\n",
            "0.946\n",
            "0.9472\n",
            "0.9506\n",
            "0.954\n",
            "0.9592\n",
            "0.9582\n",
            "0.9496\n",
            "0.973\n",
            "0.9742\n",
            "0.9748\n",
            "0.9828\n",
            "0.9862\n",
            "0.9902\n",
            "0.9772\n",
            "0.9886\n",
            "0.9928\n",
            "0.993\n",
            "0.9954\n",
            "0.9924\n",
            "0.991\n",
            "0.99\n",
            "0.9904\n",
            "0.9928\n",
            "0.9922\n",
            "0.996\n",
            "0.995\n",
            "0.9958\n",
            "0.9974\n",
            "Finished Training\n"
          ],
          "name": "stdout"
        }
      ]
    },
    {
      "cell_type": "markdown",
      "metadata": {
        "id": "danwAS4lYHL8"
      },
      "source": [
        "# Model 4: LSTM"
      ]
    },
    {
      "cell_type": "code",
      "metadata": {
        "id": "KfOCXrYdVAK9",
        "colab": {
          "base_uri": "https://localhost:8080/"
        },
        "outputId": "9ce732bf-c5d8-4b40-9323-39999b12c9ec"
      },
      "source": [
        "class Net(nn.Module):\n",
        "\n",
        "    def __init__(self):\n",
        "        super(Net, self).__init__()\n",
        "        # 1 input image channel, 16 output channels, 3x3 square convolution\n",
        "        # kernel\n",
        "        self.layer1 = nn.Embedding(len(i2w),300)\n",
        "        # an affine operation: y = Wx + b\n",
        "        self.fc1 = nn.LSTM(300,300)  \n",
        "        self.fc2 = nn.Linear(300,2)\n",
        "\n",
        "    def forward(self, x):\n",
        "        x = self.layer1(x)\n",
        "        x = self.fc1(x)\n",
        "        x = torch.max(F.relu(x[0]),1)\n",
        "        x = self.fc2(x.values)\n",
        "        return x\n",
        "\n",
        "net_LSTM = Net()\n",
        "print(net_LSTM)"
      ],
      "execution_count": 22,
      "outputs": [
        {
          "output_type": "stream",
          "text": [
            "Net(\n",
            "  (layer1): Embedding(99430, 300)\n",
            "  (fc1): LSTM(300, 300)\n",
            "  (fc2): Linear(in_features=300, out_features=2, bias=True)\n",
            ")\n"
          ],
          "name": "stdout"
        }
      ]
    },
    {
      "cell_type": "code",
      "metadata": {
        "id": "VrKqDH8DVD4B"
      },
      "source": [
        "optimizer = optim.Adam(net_LSTM.parameters(),betas=(0.9, 0.999), lr=0.0005)"
      ],
      "execution_count": 20,
      "outputs": []
    },
    {
      "cell_type": "code",
      "metadata": {
        "id": "bISe9KRiVFsK",
        "colab": {
          "base_uri": "https://localhost:8080/"
        },
        "outputId": "d29630dc-2b3f-4935-b3b9-44d444dd6ab2"
      },
      "source": [
        "accuracy_LSTM = []\n",
        "for epoch in range(35): \n",
        "    running_loss = 0.0\n",
        "    for j in range(500):\n",
        "        outputs = net_LSTM.to(device)(batch[j].to(device))\n",
        "        optimizer.zero_grad()\n",
        "        loss = torch.nn.functional.cross_entropy(F.softmax(outputs,1),target[j].to(device))\n",
        "        loss.backward()\n",
        "        optimizer.step()\n",
        "\n",
        "    correct = 0\n",
        "    total = 0\n",
        "    with torch.no_grad():\n",
        "       for j in range(125):\n",
        "         outputs = net_LSTM(v_batch[j].to(device))\n",
        "         _, predicted = torch.max(outputs.data, 1)\n",
        "         total += v_target[j].size(0)\n",
        "         correct += (predicted == v_target[j].to(device)).sum().item()\n",
        "\n",
        "    accuracy = correct/total\n",
        "    print(accuracy)\n",
        "    accuracy_LSTM.append(accuracy) \n",
        "print('Finished Training')"
      ],
      "execution_count": 21,
      "outputs": [
        {
          "output_type": "stream",
          "text": [
            "0.678\n",
            "0.7916\n",
            "0.802\n",
            "0.8072\n",
            "0.8042\n",
            "0.807\n",
            "0.866\n",
            "0.907\n",
            "0.8326\n",
            "0.87\n",
            "0.958\n",
            "0.977\n",
            "0.9834\n",
            "0.9806\n",
            "0.9946\n",
            "0.9986\n",
            "0.998\n",
            "0.9994\n",
            "0.999\n",
            "0.9986\n",
            "0.9994\n",
            "0.9994\n",
            "0.9994\n",
            "0.999\n",
            "0.9992\n",
            "0.9994\n",
            "0.9994\n",
            "0.9994\n",
            "0.9994\n",
            "0.9994\n",
            "0.9994\n",
            "0.9994\n",
            "0.9994\n",
            "0.9994\n",
            "0.9994\n",
            "Finished Training\n"
          ],
          "name": "stdout"
        }
      ]
    },
    {
      "cell_type": "markdown",
      "metadata": {
        "id": "TAc9ZqUQJlEe"
      },
      "source": [
        "# Accuarcy plot"
      ]
    },
    {
      "cell_type": "code",
      "metadata": {
        "id": "lsRGQ3lcJkc6"
      },
      "source": [
        "import matplotlib.pyplot as plt"
      ],
      "execution_count": 53,
      "outputs": []
    },
    {
      "cell_type": "code",
      "metadata": {
        "id": "7zw9UKGsOXr_"
      },
      "source": [
        "epochs = np.arange(35)+1"
      ],
      "execution_count": 65,
      "outputs": []
    },
    {
      "cell_type": "code",
      "metadata": {
        "colab": {
          "base_uri": "https://localhost:8080/",
          "height": 279
        },
        "id": "IlwE0G8pOXGY",
        "outputId": "8a31d6c1-c600-4c4d-87d4-dea4b2b9abd4"
      },
      "source": [
        "plt.plot(epochs,np.array(accuracy_NoRecurrent), color = 'red', linewidth = 1,alpha=1)             \n",
        "plt.plot(epochs,np.array(accuracy_RNN), color =  'blue', linewidth = 1,alpha=1) \n",
        "plt.plot(epochs,np.array(accuracy_LSTM), color = 'green', linewidth = 1,alpha=1) \n",
        "plt.xlabel(\"epoch\")\n",
        "plt.ylabel(\"accuracy\")    \n",
        "plt.legend(['MLP', 'RNN','LSTM'], loc=4)        \n",
        "plt.show()"
      ],
      "execution_count": 68,
      "outputs": [
        {
          "output_type": "display_data",
          "data": {
            "image/png": "[encoded data removed]",
            "text/plain": [
              "<Figure size 432x288 with 1 Axes>"
            ]
          },
          "metadata": {
            "tags": [],
            "needs_background": "light"
          }
        }
      ]
    },
    {
      "cell_type": "code",
      "metadata": {
        "id": "PBSxOQZFrCCI",
        "outputId": "8989326e-3bd7-4b4e-fc08-d989a44e0cfa",
        "colab": {
          "base_uri": "https://localhost:8080/"
        }
      },
      "source": [
        "np.array(35)"
      ],
      "execution_count": 62,
      "outputs": [
        {
          "output_type": "execute_result",
          "data": {
            "text/plain": [
              "array(35)"
            ]
          },
          "metadata": {
            "tags": []
          },
          "execution_count": 62
        }
      ]
    }
  ]
}